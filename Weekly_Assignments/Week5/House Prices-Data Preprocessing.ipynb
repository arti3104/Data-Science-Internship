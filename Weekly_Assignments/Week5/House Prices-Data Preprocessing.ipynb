{
 "cells": [
  {
   "cell_type": "code",
   "execution_count": 1,
   "id": "41b2219a-2d8d-4875-b400-eccc3e32d448",
   "metadata": {},
   "outputs": [],
   "source": [
    "# 1. Import Libraries and Load Data\n",
    "# ------------------------------------------\n",
    "import pandas as pd\n",
    "import numpy as np\n",
    "import seaborn as sns\n",
    "import matplotlib.pyplot as plt\n",
    "from sklearn.preprocessing import LabelEncoder, StandardScaler"
   ]
  },
  {
   "cell_type": "code",
   "execution_count": 2,
   "id": "42b6b024-09ac-4884-b5b4-616038b22045",
   "metadata": {},
   "outputs": [],
   "source": [
    "# Load both datasets\n",
    "train = pd.read_csv('train.csv')\n",
    "test = pd.read_csv('test.csv')"
   ]
  },
  {
   "cell_type": "code",
   "execution_count": 3,
   "id": "d9668e2b-fc28-4acf-96cd-dc65da493aeb",
   "metadata": {},
   "outputs": [],
   "source": [
    "# Save the target separately\n",
    "y_train = train['SalePrice']\n",
    "train.drop(['SalePrice'], axis=1, inplace=True)"
   ]
  },
  {
   "cell_type": "code",
   "execution_count": 4,
   "id": "f66c6658-bcd1-45f4-99d4-b33fce40ac3a",
   "metadata": {},
   "outputs": [
    {
     "name": "stdout",
     "output_type": "stream",
     "text": [
      "Combined shape: (2919, 80)\n"
     ]
    }
   ],
   "source": [
    "# Combine train and test for preprocessing\n",
    "combined = pd.concat([train, test], axis=0)\n",
    "print(\"Combined shape:\", combined.shape)"
   ]
  },
  {
   "cell_type": "code",
   "execution_count": 5,
   "id": "1307e155-7707-4049-b9de-a8bf0f1caea8",
   "metadata": {},
   "outputs": [],
   "source": [
    "# 2. Handle Missing Values\n",
    "# ------------------------------------------"
   ]
  },
  {
   "cell_type": "code",
   "execution_count": 6,
   "id": "3c44198d-b36e-4ac6-9381-7468164089fb",
   "metadata": {},
   "outputs": [],
   "source": [
    "#Fill CategoricalValues..\n",
    "categorical_cols = combined.select_dtypes(include='object').columns\n",
    "combined[categorical_cols] = combined[categorical_cols].fillna(\"None\")"
   ]
  },
  {
   "cell_type": "code",
   "execution_count": 7,
   "id": "1a35a9be-6036-487b-8c6c-7a77bc6d1cba",
   "metadata": {},
   "outputs": [],
   "source": [
    "#Fill numerical with median\n",
    "numerical_cols = combined.select_dtypes(exclude='object').columns\n",
    "combined[numerical_cols] = combined[numerical_cols].fillna(combined[numerical_cols].median())"
   ]
  },
  {
   "cell_type": "code",
   "execution_count": 9,
   "id": "255901c8-87df-4348-96fc-c47aef28cb87",
   "metadata": {},
   "outputs": [],
   "source": [
    "# 3. Label Encoding for Ordinal Features\n",
    "# ------------------------------------------\n",
    "ordinal_cols = ['ExterQual', 'ExterCond', 'BsmtQual', 'BsmtCond', 'HeatingQC',\n",
    "                'KitchenQual', 'FireplaceQu', 'GarageQual', 'GarageCond', 'PoolQC']\n",
    "for col in ordinal_cols:\n",
    "    le = LabelEncoder()\n",
    "    combined[col] = le.fit_transform(combined[col])"
   ]
  },
  {
   "cell_type": "code",
   "execution_count": 10,
   "id": "e8582fab-de56-40c8-990a-2685bd42c32b",
   "metadata": {},
   "outputs": [],
   "source": [
    "# 4. One-Hot Encoding for Remaining Categorical Columns\n",
    "# ------------------------------------------\n",
    "combined = pd.get_dummies(combined)"
   ]
  },
  {
   "cell_type": "code",
   "execution_count": 12,
   "id": "18e88a04-9710-4689-adb2-c64e2287a795",
   "metadata": {},
   "outputs": [],
   "source": [
    "# 5. Feature Engineering\n",
    "# ------------------------------------------\n",
    "combined['TotalBathrooms'] = (combined['FullBath'] + combined['HalfBath'] * 0.5 +\n",
    "                              combined['BsmtFullBath'] + combined['BsmtHalfBath'] * 0.5)\n",
    "combined['TotalSF'] = (combined['TotalBsmtSF'] + combined['1stFlrSF'] + combined['2ndFlrSF'])\n",
    "combined['HouseAge'] = combined['YrSold'] - combined['YearBuilt']"
   ]
  },
  {
   "cell_type": "code",
   "execution_count": 13,
   "id": "100bb40c-f9c1-4eec-951a-837d3ca04f3f",
   "metadata": {},
   "outputs": [],
   "source": [
    "# 6. Outlier Removal\n",
    "# ------------------------------------------\n",
    "# Example: Remove extreme TotalSF outliers from original train\n",
    "train_rows = train.shape[0]\n",
    "X_train_temp = combined[:train_rows].copy()\n",
    "y_train_temp = y_train.copy()\n",
    "\n",
    "outliers = X_train_temp[X_train_temp['TotalSF'] > 6000].index\n",
    "X_train_temp.drop(outliers, inplace=True)\n",
    "y_train_temp.drop(outliers, inplace=True)"
   ]
  },
  {
   "cell_type": "code",
   "execution_count": 14,
   "id": "6a03fb51-2f4c-406a-908a-24830adf2092",
   "metadata": {},
   "outputs": [],
   "source": [
    "# 7. Scaling Features (Optional)\n",
    "# ------------------------------------------\n",
    "scaler = StandardScaler()\n",
    "X_scaled = scaler.fit_transform(combined)\n",
    "combined_scaled = pd.DataFrame(X_scaled, columns=combined.columns)"
   ]
  },
  {
   "cell_type": "code",
   "execution_count": 15,
   "id": "1d7f65f3-19a1-427d-83b8-be6ccfd66b5b",
   "metadata": {},
   "outputs": [],
   "source": [
    " #8. Final Dataset Split and Save\n",
    "# ------------------------------------------\n",
    "X_train = combined_scaled.iloc[:len(y_train_temp), :]\n",
    "X_test = combined_scaled.iloc[len(y_train_temp):, :]\n",
    "y_train = y_train_temp"
   ]
  },
  {
   "cell_type": "code",
   "execution_count": 16,
   "id": "654b6eb8-272c-40bb-ad3d-e30fe740e10c",
   "metadata": {},
   "outputs": [
    {
     "name": "stdout",
     "output_type": "stream",
     "text": [
      "Preprocessing complete. Files saved.\n"
     ]
    }
   ],
   "source": [
    "# Save to CSV files\n",
    "X_train.to_csv('X_train.csv', index=False)\n",
    "X_test.to_csv('X_test.csv', index=False)\n",
    "y_train.to_csv('y_train.csv', index=False)\n",
    "\n",
    "print(\"Preprocessing complete. Files saved.\")"
   ]
  },
  {
   "cell_type": "code",
   "execution_count": null,
   "id": "6987562a-2301-4a16-85d8-70ef82513b1b",
   "metadata": {},
   "outputs": [],
   "source": []
  }
 ],
 "metadata": {
  "kernelspec": {
   "display_name": "Python 3 (ipykernel)",
   "language": "python",
   "name": "python3"
  },
  "language_info": {
   "codemirror_mode": {
    "name": "ipython",
    "version": 3
   },
   "file_extension": ".py",
   "mimetype": "text/x-python",
   "name": "python",
   "nbconvert_exporter": "python",
   "pygments_lexer": "ipython3",
   "version": "3.13.0"
  }
 },
 "nbformat": 4,
 "nbformat_minor": 5
}
